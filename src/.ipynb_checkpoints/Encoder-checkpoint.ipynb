{
 "cells": [
  {
   "cell_type": "code",
   "execution_count": 23,
   "id": "c17d1f24-038f-4225-9237-b5f30f1d5a09",
   "metadata": {},
   "outputs": [
    {
     "name": "stdout",
     "output_type": "stream",
     "text": [
      "\n",
      " !$&',-.3:;?ABCDEFGHIJKLMNOPQRSTUVWXYZabcdefghijklmnopqrstuvwxyz\n",
      "Shakespeare's work is built from a set having cardinality:  65 \n",
      "\n",
      "output integer representation of a given sequence of chars\n",
      "[58, 43, 57, 58, 47, 52, 45, 1, 43, 52, 41, 53, 42, 43, 56]\n"
     ]
    }
   ],
   "source": [
    "# So we need to tokenize the characters in the data set. Let's begin by parsing the data set \n",
    "# and constructing a set of characters which comprise the data set.\n",
    "\n",
    "alphabet = \"\"\n",
    "with open('datasets/tinyshakespeare.txt', 'r') as file:\n",
    "    alphabet = file.read()\n",
    "#print(alphabet)\n",
    "\n",
    "# Construct the set\n",
    "alphabet = sorted(list(set(alphabet)))\n",
    "print(''.join(alphabet))\n",
    "#print(alphabet)\n",
    "print(\"Shakespeare's work is built from a set having cardinality: \", len(alphabet), \"\\n\")\n",
    "\n",
    "# Create simple encoder. E: A -> Z. \n",
    "# E is a bijective map (our encoder) which maps characters in alphabet set to the set of integers.\n",
    "encodeMap = { ch:i for i,ch in enumerate(alphabet) }\n",
    "decodeMap = { i:ch for i,ch in enumerate(alphabet) }\n",
    "\n",
    "encode = lambda x: [encodeMap[i] for i in x]\n",
    "print(\"output integer representation of a given sequence of chars\")\n",
    "print(encode(\"testing encoder\"))\n"
   ]
  },
  {
   "cell_type": "code",
   "execution_count": 3,
   "id": "ce1297e7-6ab7-4c8d-b865-d63ff29231bf",
   "metadata": {},
   "outputs": [
    {
     "name": "stdout",
     "output_type": "stream",
     "text": [
      "set()\n"
     ]
    }
   ],
   "source": []
  },
  {
   "cell_type": "code",
   "execution_count": null,
   "id": "3aaf4e48-13e2-45a4-af1e-30375d09da6b",
   "metadata": {},
   "outputs": [],
   "source": []
  },
  {
   "cell_type": "code",
   "execution_count": null,
   "id": "62b1b955-97ef-4f6b-8e28-5ab0b0dd43d4",
   "metadata": {},
   "outputs": [],
   "source": []
  }
 ],
 "metadata": {
  "kernelspec": {
   "display_name": "Python 3 (ipykernel)",
   "language": "python",
   "name": "python3"
  },
  "language_info": {
   "codemirror_mode": {
    "name": "ipython",
    "version": 3
   },
   "file_extension": ".py",
   "mimetype": "text/x-python",
   "name": "python",
   "nbconvert_exporter": "python",
   "pygments_lexer": "ipython3",
   "version": "3.10.0"
  }
 },
 "nbformat": 4,
 "nbformat_minor": 5
}
