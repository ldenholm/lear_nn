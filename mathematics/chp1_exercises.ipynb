{
 "cells": [
  {
   "cell_type": "code",
   "execution_count": 1,
   "id": "13333f94-1515-4e95-bd49-d2523a778bcb",
   "metadata": {},
   "outputs": [
    {
     "ename": "SyntaxError",
     "evalue": "invalid syntax. Perhaps you forgot a comma? (2305667689.py, line 1)",
     "output_type": "error",
     "traceback": [
      "\u001b[0;36m  Cell \u001b[0;32mIn[1], line 1\u001b[0;36m\u001b[0m\n\u001b[0;31m    Of a group of patients having injuries, 28% visit both a physical therapist and a chiropractor and 8% visit neither. Say that the probability of visiting a physical therapist exceeds the probability of visiting a chiropractor\u001b[0m\n\u001b[0m                                            ^\u001b[0m\n\u001b[0;31mSyntaxError\u001b[0m\u001b[0;31m:\u001b[0m invalid syntax. Perhaps you forgot a comma?\n"
     ]
    }
   ],
   "source": [
    "\"\"\"Of a group of patients having injuries, 28% visit both a physical therapist and a chiropractor and 8% visit neither. \n",
    "Say that the probability of visiting a physical therapist exceeds the probability of visiting a chiropractor by 16%. \n",
    "What is the probability of a randomly selected person from this group visiting a physical therapist? \"\"\"\n",
    "\n",
    "# We construct a probability space using the info given: P(PT n C) + P(PT U C)' + P(PT) + P(C) = 1\n",
    "# 1 = Neither + P(PT) + P(C) - P(PT n C)\n",
    "# 1 - 0.08 + 0.28 = 2P(C) + 0.16\n",
    "# (1 - 0.08 + 0.28 - 0.16) / 2 = P(C) = 0.52\n",
    "# 1 - 0.08 + 0.28 - 0.52 = P(PT) = 0.68 = Probability of seeing a physical therapist."
   ]
  },
  {
   "cell_type": "code",
   "execution_count": 2,
   "id": "693a63a1-b082-48aa-8e49-38be68c3c469",
   "metadata": {},
   "outputs": [
    {
     "name": "stdout",
     "output_type": "stream",
     "text": [
      "0.5200000000000001\n"
     ]
    }
   ],
   "source": [
    "print((1 - 0.08 + 0.28 - 0.16) / 2)"
   ]
  },
  {
   "cell_type": "code",
   "execution_count": 3,
   "id": "2e253479-2c1a-4ea1-a645-55b7c92d2e79",
   "metadata": {},
   "outputs": [
    {
     "name": "stdout",
     "output_type": "stream",
     "text": [
      "0.6800000000000002\n"
     ]
    }
   ],
   "source": [
    "print(1 - 0.08 + 0.28 - 0.52)"
   ]
  },
  {
   "cell_type": "code",
   "execution_count": null,
   "id": "149eb7b4-9f41-4193-bd72-899feee28a2f",
   "metadata": {},
   "outputs": [],
   "source": [
    "\"\"\"An insurance company looks at its auto insurance customers and finds that (a) all insure at least one car, (b)\n",
    "85% insure more than one car, (c) 23% insure a sports car, and (d) 17% insure more than one car, including a\n",
    "sports car. Find the probability that a customer selected at random insures exactly one car and it is not a sports car.\"\"\"\n",
    "\n",
    "# Again we must construct the probability space to account for each of these outcomes.\n",
    "# All insure at least 1 car. 1 = at least one car.\n",
    "# 1 - 0.85 = 0.15 = P(Insure only one car) = P(C)\n",
    "\n",
    "# 1 - 0.23 = 0.77 = P(Do not insure sports car) = P(S')\n",
    "\n",
    "# 1 = P(C) + P(S') - P(C n S')\n",
    "# 1 = 0.15 + 0.77 - P(C n S')\n",
    "\n",
    "\n",
    "# 1 - P(S U C) = P((S U C)') = Probability of not insuring a sports car or more than one car.\n",
    "# 1 = P(S) + P(C) - P(S n C)\n",
    "# 1 - P(S) - P(C) + P(S n C) = P((S U C)')\n",
    "# 1 - 0.23 - 0.85 + 0.17 = 0.09"
   ]
  },
  {
   "cell_type": "code",
   "execution_count": 5,
   "id": "fec3b154-23b5-4b9d-8950-94f2ef929376",
   "metadata": {},
   "outputs": [
    {
     "name": "stdout",
     "output_type": "stream",
     "text": [
      "0.09000000000000005\n"
     ]
    }
   ],
   "source": [
    "print(1 - 0.23 - 0.85 + 0.17)"
   ]
  },
  {
   "cell_type": "code",
   "execution_count": null,
   "id": "f393c66c-e38c-4d5d-b971-9ba738c048de",
   "metadata": {},
   "outputs": [],
   "source": []
  }
 ],
 "metadata": {
  "kernelspec": {
   "display_name": "Python 3 (ipykernel)",
   "language": "python",
   "name": "python3"
  },
  "language_info": {
   "codemirror_mode": {
    "name": "ipython",
    "version": 3
   },
   "file_extension": ".py",
   "mimetype": "text/x-python",
   "name": "python",
   "nbconvert_exporter": "python",
   "pygments_lexer": "ipython3",
   "version": "3.10.0"
  }
 },
 "nbformat": 4,
 "nbformat_minor": 5
}
